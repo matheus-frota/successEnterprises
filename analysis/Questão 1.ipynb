{
 "cells": [
  {
   "cell_type": "code",
   "execution_count": 18,
   "metadata": {},
   "outputs": [],
   "source": [
    "# Import Libraries\n",
    "\n",
    "import pandas as pd\n",
    "import numpy as np\n",
    "from datetime import datetime, date, time"
   ]
  },
  {
   "cell_type": "code",
   "execution_count": 19,
   "metadata": {},
   "outputs": [
    {
     "data": {
      "text/html": [
       "<div>\n",
       "<style scoped>\n",
       "    .dataframe tbody tr th:only-of-type {\n",
       "        vertical-align: middle;\n",
       "    }\n",
       "\n",
       "    .dataframe tbody tr th {\n",
       "        vertical-align: top;\n",
       "    }\n",
       "\n",
       "    .dataframe thead th {\n",
       "        text-align: right;\n",
       "    }\n",
       "</style>\n",
       "<table border=\"1\" class=\"dataframe\">\n",
       "  <thead>\n",
       "    <tr style=\"text-align: right;\">\n",
       "      <th></th>\n",
       "      <th>data</th>\n",
       "      <th>time</th>\n",
       "      <th>temp</th>\n",
       "      <th>vendas</th>\n",
       "    </tr>\n",
       "  </thead>\n",
       "  <tbody>\n",
       "    <tr>\n",
       "      <th>0</th>\n",
       "      <td>42370</td>\n",
       "      <td>00:00:00</td>\n",
       "      <td>23,8</td>\n",
       "      <td>14,20923845</td>\n",
       "    </tr>\n",
       "    <tr>\n",
       "      <th>1</th>\n",
       "      <td>42370</td>\n",
       "      <td>01:00:00</td>\n",
       "      <td>23</td>\n",
       "      <td>13,9582873</td>\n",
       "    </tr>\n",
       "    <tr>\n",
       "      <th>2</th>\n",
       "      <td>42370</td>\n",
       "      <td>02:00:00</td>\n",
       "      <td>22,5</td>\n",
       "      <td>13,71676794</td>\n",
       "    </tr>\n",
       "    <tr>\n",
       "      <th>3</th>\n",
       "      <td>42370</td>\n",
       "      <td>03:00:00</td>\n",
       "      <td>22,2</td>\n",
       "      <td>13,63477575</td>\n",
       "    </tr>\n",
       "    <tr>\n",
       "      <th>4</th>\n",
       "      <td>42370</td>\n",
       "      <td>04:00:00</td>\n",
       "      <td>21,7</td>\n",
       "      <td>13,47386227</td>\n",
       "    </tr>\n",
       "  </tbody>\n",
       "</table>\n",
       "</div>"
      ],
      "text/plain": [
       "    data      time  temp       vendas\n",
       "0  42370  00:00:00  23,8  14,20923845\n",
       "1  42370  01:00:00    23   13,9582873\n",
       "2  42370  02:00:00  22,5  13,71676794\n",
       "3  42370  03:00:00  22,2  13,63477575\n",
       "4  42370  04:00:00  21,7  13,47386227"
      ]
     },
     "execution_count": 19,
     "metadata": {},
     "output_type": "execute_result"
    }
   ],
   "source": [
    "# Open Dataset\n",
    "clima = pd.read_csv('/home/jovyan/workspace/data/base_clima_parte1.csv', sep = ';')\n",
    "clima.head()"
   ]
  },
  {
   "cell_type": "code",
   "execution_count": 20,
   "metadata": {},
   "outputs": [],
   "source": [
    "for col in ['vendas','temp']:\n",
    "    if col == 'vendas':\n",
    "        clima[col] = clima[col].replace('#VALOR!',np.nan)\n",
    "    clima[col] = clima[col].str.replace(',','.').astype(float)"
   ]
  },
  {
   "cell_type": "markdown",
   "metadata": {},
   "source": [
    "## 1.1 Tratar a base de dados de forma que a coluna de data fique no formato YYYY/MM/DD."
   ]
  },
  {
   "cell_type": "code",
   "execution_count": 21,
   "metadata": {},
   "outputs": [],
   "source": [
    "\n",
    "data = {}\n",
    "dataConvertida = []\n",
    "base_ordinal = date(1899, 12, 30).toordinal()\n",
    "for day in clima['data'].unique():    \n",
    "    day = day\n",
    "    date = date.fromordinal(int(day) + base_ordinal)\n",
    "    fraction = day - int(day)\n",
    "    h = int(fraction * 24)\n",
    "    m = int((fraction*24 - h) * 60)\n",
    "    s = int((fraction*24*60 - h*60 -m) * 60)\n",
    "    t = time(h, m, s)\n",
    "\n",
    "    dtime = datetime.combine(date,t)\n",
    "    formatted = dtime.strftime('%d/%m/%Y')\n",
    "    dataConvertida.append(formatted)\n",
    "\n",
    "data = {timestamp:day for day,timestamp in zip(dataConvertida,clima['data'].unique())}"
   ]
  },
  {
   "cell_type": "code",
   "execution_count": 22,
   "metadata": {},
   "outputs": [],
   "source": [
    "clima['data'].replace(data, inplace = True)\n",
    "clima['data'] = clima['data'] + ' ' + clima['time']\n",
    "clima['data'] = pd.to_datetime(clima['data'])\n",
    "clima.drop('time',axis = 1, inplace = True)"
   ]
  },
  {
   "cell_type": "code",
   "execution_count": 23,
   "metadata": {},
   "outputs": [
    {
     "data": {
      "text/html": [
       "<div>\n",
       "<style scoped>\n",
       "    .dataframe tbody tr th:only-of-type {\n",
       "        vertical-align: middle;\n",
       "    }\n",
       "\n",
       "    .dataframe tbody tr th {\n",
       "        vertical-align: top;\n",
       "    }\n",
       "\n",
       "    .dataframe thead th {\n",
       "        text-align: right;\n",
       "    }\n",
       "</style>\n",
       "<table border=\"1\" class=\"dataframe\">\n",
       "  <thead>\n",
       "    <tr style=\"text-align: right;\">\n",
       "      <th></th>\n",
       "      <th>data</th>\n",
       "      <th>temp</th>\n",
       "      <th>vendas</th>\n",
       "    </tr>\n",
       "  </thead>\n",
       "  <tbody>\n",
       "    <tr>\n",
       "      <th>0</th>\n",
       "      <td>2016-01-01 00:00:00</td>\n",
       "      <td>23.8</td>\n",
       "      <td>14.209238</td>\n",
       "    </tr>\n",
       "    <tr>\n",
       "      <th>1</th>\n",
       "      <td>2016-01-01 01:00:00</td>\n",
       "      <td>23.0</td>\n",
       "      <td>13.958287</td>\n",
       "    </tr>\n",
       "    <tr>\n",
       "      <th>2</th>\n",
       "      <td>2016-01-01 02:00:00</td>\n",
       "      <td>22.5</td>\n",
       "      <td>13.716768</td>\n",
       "    </tr>\n",
       "    <tr>\n",
       "      <th>3</th>\n",
       "      <td>2016-01-01 03:00:00</td>\n",
       "      <td>22.2</td>\n",
       "      <td>13.634776</td>\n",
       "    </tr>\n",
       "    <tr>\n",
       "      <th>4</th>\n",
       "      <td>2016-01-01 04:00:00</td>\n",
       "      <td>21.7</td>\n",
       "      <td>13.473862</td>\n",
       "    </tr>\n",
       "  </tbody>\n",
       "</table>\n",
       "</div>"
      ],
      "text/plain": [
       "                 data  temp     vendas\n",
       "0 2016-01-01 00:00:00  23.8  14.209238\n",
       "1 2016-01-01 01:00:00  23.0  13.958287\n",
       "2 2016-01-01 02:00:00  22.5  13.716768\n",
       "3 2016-01-01 03:00:00  22.2  13.634776\n",
       "4 2016-01-01 04:00:00  21.7  13.473862"
      ]
     },
     "execution_count": 23,
     "metadata": {},
     "output_type": "execute_result"
    }
   ],
   "source": [
    "clima.head()"
   ]
  },
  {
   "cell_type": "markdown",
   "metadata": {},
   "source": [
    "## 1.2 Calcule"
   ]
  },
  {
   "cell_type": "code",
   "execution_count": 24,
   "metadata": {},
   "outputs": [],
   "source": [
    "# Criando variáveis com informações de Dia, Mês e Ano\n",
    "clima['day'] = clima['data'].dt.day\n",
    "clima['month'] = clima['data'].dt.month\n",
    "clima['year'] = clima['data'].dt.year\n",
    "clima['hour'] = clima['data'].dt.hour\n",
    "clima['weekday'] = clima['data'].dt.weekday\n",
    "\n",
    "# Criando variáveis de periodo Manhã, Tarde e Noite\n",
    "clima['morning'] = clima['hour'].apply(lambda x: 1 if (x >= 6) & (x < 12) else 0)\n",
    "clima['afternoon'] = clima['hour'].apply(lambda x: 1 if (x >= 12) & (x < 18) else 0)\n",
    "clima['nigth'] = clima['hour'].apply(lambda x: 1 if (x >= 18) & (x <= 23) else 0)\n",
    "clima['dawn'] = clima['hour'].apply(lambda x: 1 if (x >= 0) & (x <= 5) else 0)"
   ]
  },
  {
   "cell_type": "code",
   "execution_count": 25,
   "metadata": {},
   "outputs": [
    {
     "data": {
      "text/html": [
       "<div>\n",
       "<style scoped>\n",
       "    .dataframe tbody tr th:only-of-type {\n",
       "        vertical-align: middle;\n",
       "    }\n",
       "\n",
       "    .dataframe tbody tr th {\n",
       "        vertical-align: top;\n",
       "    }\n",
       "\n",
       "    .dataframe thead th {\n",
       "        text-align: right;\n",
       "    }\n",
       "</style>\n",
       "<table border=\"1\" class=\"dataframe\">\n",
       "  <thead>\n",
       "    <tr style=\"text-align: right;\">\n",
       "      <th></th>\n",
       "      <th>data</th>\n",
       "      <th>temp</th>\n",
       "      <th>vendas</th>\n",
       "      <th>day</th>\n",
       "      <th>month</th>\n",
       "      <th>year</th>\n",
       "      <th>hour</th>\n",
       "      <th>weekday</th>\n",
       "      <th>morning</th>\n",
       "      <th>afternoon</th>\n",
       "      <th>nigth</th>\n",
       "      <th>dawn</th>\n",
       "    </tr>\n",
       "  </thead>\n",
       "  <tbody>\n",
       "    <tr>\n",
       "      <th>0</th>\n",
       "      <td>2016-01-01 00:00:00</td>\n",
       "      <td>23.8</td>\n",
       "      <td>14.209238</td>\n",
       "      <td>1</td>\n",
       "      <td>1</td>\n",
       "      <td>2016</td>\n",
       "      <td>0</td>\n",
       "      <td>4</td>\n",
       "      <td>0</td>\n",
       "      <td>0</td>\n",
       "      <td>0</td>\n",
       "      <td>1</td>\n",
       "    </tr>\n",
       "    <tr>\n",
       "      <th>1</th>\n",
       "      <td>2016-01-01 01:00:00</td>\n",
       "      <td>23.0</td>\n",
       "      <td>13.958287</td>\n",
       "      <td>1</td>\n",
       "      <td>1</td>\n",
       "      <td>2016</td>\n",
       "      <td>1</td>\n",
       "      <td>4</td>\n",
       "      <td>0</td>\n",
       "      <td>0</td>\n",
       "      <td>0</td>\n",
       "      <td>1</td>\n",
       "    </tr>\n",
       "    <tr>\n",
       "      <th>2</th>\n",
       "      <td>2016-01-01 02:00:00</td>\n",
       "      <td>22.5</td>\n",
       "      <td>13.716768</td>\n",
       "      <td>1</td>\n",
       "      <td>1</td>\n",
       "      <td>2016</td>\n",
       "      <td>2</td>\n",
       "      <td>4</td>\n",
       "      <td>0</td>\n",
       "      <td>0</td>\n",
       "      <td>0</td>\n",
       "      <td>1</td>\n",
       "    </tr>\n",
       "    <tr>\n",
       "      <th>3</th>\n",
       "      <td>2016-01-01 03:00:00</td>\n",
       "      <td>22.2</td>\n",
       "      <td>13.634776</td>\n",
       "      <td>1</td>\n",
       "      <td>1</td>\n",
       "      <td>2016</td>\n",
       "      <td>3</td>\n",
       "      <td>4</td>\n",
       "      <td>0</td>\n",
       "      <td>0</td>\n",
       "      <td>0</td>\n",
       "      <td>1</td>\n",
       "    </tr>\n",
       "    <tr>\n",
       "      <th>4</th>\n",
       "      <td>2016-01-01 04:00:00</td>\n",
       "      <td>21.7</td>\n",
       "      <td>13.473862</td>\n",
       "      <td>1</td>\n",
       "      <td>1</td>\n",
       "      <td>2016</td>\n",
       "      <td>4</td>\n",
       "      <td>4</td>\n",
       "      <td>0</td>\n",
       "      <td>0</td>\n",
       "      <td>0</td>\n",
       "      <td>1</td>\n",
       "    </tr>\n",
       "  </tbody>\n",
       "</table>\n",
       "</div>"
      ],
      "text/plain": [
       "                 data  temp     vendas  day  month  year  hour  weekday  \\\n",
       "0 2016-01-01 00:00:00  23.8  14.209238    1      1  2016     0        4   \n",
       "1 2016-01-01 01:00:00  23.0  13.958287    1      1  2016     1        4   \n",
       "2 2016-01-01 02:00:00  22.5  13.716768    1      1  2016     2        4   \n",
       "3 2016-01-01 03:00:00  22.2  13.634776    1      1  2016     3        4   \n",
       "4 2016-01-01 04:00:00  21.7  13.473862    1      1  2016     4        4   \n",
       "\n",
       "   morning  afternoon  nigth  dawn  \n",
       "0        0          0      0     1  \n",
       "1        0          0      0     1  \n",
       "2        0          0      0     1  \n",
       "3        0          0      0     1  \n",
       "4        0          0      0     1  "
      ]
     },
     "execution_count": 25,
     "metadata": {},
     "output_type": "execute_result"
    }
   ],
   "source": [
    "clima.head()"
   ]
  },
  {
   "cell_type": "markdown",
   "metadata": {},
   "source": [
    "### (a) A temperatura média mensal:"
   ]
  },
  {
   "cell_type": "code",
   "execution_count": 26,
   "metadata": {},
   "outputs": [],
   "source": [
    "clima['tempMean'] = clima.groupby(['month','year'])['temp'].transform('mean')"
   ]
  },
  {
   "cell_type": "markdown",
   "metadata": {},
   "source": [
    "### b) Temperatura média no período da manhã, no mês (6hrs ao meio dia)"
   ]
  },
  {
   "cell_type": "code",
   "execution_count": 27,
   "metadata": {},
   "outputs": [],
   "source": [
    "clima['tempMorningMean'] = clima[clima['morning'] == 1].groupby(['month','year','morning'])['temp'].transform('mean')"
   ]
  },
  {
   "cell_type": "markdown",
   "metadata": {},
   "source": [
    "### (c) Temperatura média no período da tarde, no mês (meio dia as 18hrs)"
   ]
  },
  {
   "cell_type": "code",
   "execution_count": 28,
   "metadata": {},
   "outputs": [],
   "source": [
    "clima['tempAfternoonMean'] = clima[clima['afternoon'] == 1].groupby(['month','year','afternoon'])['temp'].transform('mean')"
   ]
  },
  {
   "cell_type": "markdown",
   "metadata": {},
   "source": [
    "### (d) Temperatura média no período da noite, no mês (18hrs à meia noite)"
   ]
  },
  {
   "cell_type": "code",
   "execution_count": 29,
   "metadata": {},
   "outputs": [],
   "source": [
    "clima['tempNigthMean'] = clima[clima['nigth'] == 1].groupby(['month','year','nigth'])['temp'].transform('mean')"
   ]
  },
  {
   "cell_type": "markdown",
   "metadata": {},
   "source": [
    "### (e) Total de vendas (soma) mensal"
   ]
  },
  {
   "cell_type": "code",
   "execution_count": 30,
   "metadata": {},
   "outputs": [],
   "source": [
    "clima['totalSales'] = clima.groupby(['month','year'])['vendas'].transform('sum')"
   ]
  },
  {
   "cell_type": "markdown",
   "metadata": {},
   "source": [
    "### (f) Temperatura média no período da madrugada"
   ]
  },
  {
   "cell_type": "code",
   "execution_count": 31,
   "metadata": {},
   "outputs": [],
   "source": [
    "clima['tempDawnMean'] = clima[clima['dawn'] == 1].groupby(['month','year','dawn'])['temp'].transform('mean')"
   ]
  },
  {
   "cell_type": "code",
   "execution_count": 32,
   "metadata": {},
   "outputs": [
    {
     "data": {
      "text/html": [
       "<div>\n",
       "<style scoped>\n",
       "    .dataframe tbody tr th:only-of-type {\n",
       "        vertical-align: middle;\n",
       "    }\n",
       "\n",
       "    .dataframe tbody tr th {\n",
       "        vertical-align: top;\n",
       "    }\n",
       "\n",
       "    .dataframe thead th {\n",
       "        text-align: right;\n",
       "    }\n",
       "</style>\n",
       "<table border=\"1\" class=\"dataframe\">\n",
       "  <thead>\n",
       "    <tr style=\"text-align: right;\">\n",
       "      <th></th>\n",
       "      <th>data</th>\n",
       "      <th>temp</th>\n",
       "      <th>vendas</th>\n",
       "      <th>day</th>\n",
       "      <th>month</th>\n",
       "      <th>year</th>\n",
       "      <th>hour</th>\n",
       "      <th>weekday</th>\n",
       "      <th>morning</th>\n",
       "      <th>afternoon</th>\n",
       "      <th>nigth</th>\n",
       "      <th>dawn</th>\n",
       "      <th>tempMean</th>\n",
       "      <th>tempMorningMean</th>\n",
       "      <th>tempAfternoonMean</th>\n",
       "      <th>tempNigthMean</th>\n",
       "      <th>totalSales</th>\n",
       "      <th>tempDawnMean</th>\n",
       "    </tr>\n",
       "  </thead>\n",
       "  <tbody>\n",
       "    <tr>\n",
       "      <th>0</th>\n",
       "      <td>2016-01-01 00:00:00</td>\n",
       "      <td>23.8</td>\n",
       "      <td>14.209238</td>\n",
       "      <td>1</td>\n",
       "      <td>1</td>\n",
       "      <td>2016</td>\n",
       "      <td>0</td>\n",
       "      <td>4</td>\n",
       "      <td>0</td>\n",
       "      <td>0</td>\n",
       "      <td>0</td>\n",
       "      <td>1</td>\n",
       "      <td>21.537097</td>\n",
       "      <td>NaN</td>\n",
       "      <td>NaN</td>\n",
       "      <td>NaN</td>\n",
       "      <td>9968.195728</td>\n",
       "      <td>19.84086</td>\n",
       "    </tr>\n",
       "    <tr>\n",
       "      <th>1</th>\n",
       "      <td>2016-01-01 01:00:00</td>\n",
       "      <td>23.0</td>\n",
       "      <td>13.958287</td>\n",
       "      <td>1</td>\n",
       "      <td>1</td>\n",
       "      <td>2016</td>\n",
       "      <td>1</td>\n",
       "      <td>4</td>\n",
       "      <td>0</td>\n",
       "      <td>0</td>\n",
       "      <td>0</td>\n",
       "      <td>1</td>\n",
       "      <td>21.537097</td>\n",
       "      <td>NaN</td>\n",
       "      <td>NaN</td>\n",
       "      <td>NaN</td>\n",
       "      <td>9968.195728</td>\n",
       "      <td>19.84086</td>\n",
       "    </tr>\n",
       "    <tr>\n",
       "      <th>2</th>\n",
       "      <td>2016-01-01 02:00:00</td>\n",
       "      <td>22.5</td>\n",
       "      <td>13.716768</td>\n",
       "      <td>1</td>\n",
       "      <td>1</td>\n",
       "      <td>2016</td>\n",
       "      <td>2</td>\n",
       "      <td>4</td>\n",
       "      <td>0</td>\n",
       "      <td>0</td>\n",
       "      <td>0</td>\n",
       "      <td>1</td>\n",
       "      <td>21.537097</td>\n",
       "      <td>NaN</td>\n",
       "      <td>NaN</td>\n",
       "      <td>NaN</td>\n",
       "      <td>9968.195728</td>\n",
       "      <td>19.84086</td>\n",
       "    </tr>\n",
       "    <tr>\n",
       "      <th>3</th>\n",
       "      <td>2016-01-01 03:00:00</td>\n",
       "      <td>22.2</td>\n",
       "      <td>13.634776</td>\n",
       "      <td>1</td>\n",
       "      <td>1</td>\n",
       "      <td>2016</td>\n",
       "      <td>3</td>\n",
       "      <td>4</td>\n",
       "      <td>0</td>\n",
       "      <td>0</td>\n",
       "      <td>0</td>\n",
       "      <td>1</td>\n",
       "      <td>21.537097</td>\n",
       "      <td>NaN</td>\n",
       "      <td>NaN</td>\n",
       "      <td>NaN</td>\n",
       "      <td>9968.195728</td>\n",
       "      <td>19.84086</td>\n",
       "    </tr>\n",
       "    <tr>\n",
       "      <th>4</th>\n",
       "      <td>2016-01-01 04:00:00</td>\n",
       "      <td>21.7</td>\n",
       "      <td>13.473862</td>\n",
       "      <td>1</td>\n",
       "      <td>1</td>\n",
       "      <td>2016</td>\n",
       "      <td>4</td>\n",
       "      <td>4</td>\n",
       "      <td>0</td>\n",
       "      <td>0</td>\n",
       "      <td>0</td>\n",
       "      <td>1</td>\n",
       "      <td>21.537097</td>\n",
       "      <td>NaN</td>\n",
       "      <td>NaN</td>\n",
       "      <td>NaN</td>\n",
       "      <td>9968.195728</td>\n",
       "      <td>19.84086</td>\n",
       "    </tr>\n",
       "  </tbody>\n",
       "</table>\n",
       "</div>"
      ],
      "text/plain": [
       "                 data  temp     vendas  day  month  year  hour  weekday  \\\n",
       "0 2016-01-01 00:00:00  23.8  14.209238    1      1  2016     0        4   \n",
       "1 2016-01-01 01:00:00  23.0  13.958287    1      1  2016     1        4   \n",
       "2 2016-01-01 02:00:00  22.5  13.716768    1      1  2016     2        4   \n",
       "3 2016-01-01 03:00:00  22.2  13.634776    1      1  2016     3        4   \n",
       "4 2016-01-01 04:00:00  21.7  13.473862    1      1  2016     4        4   \n",
       "\n",
       "   morning  afternoon  nigth  dawn   tempMean  tempMorningMean  \\\n",
       "0        0          0      0     1  21.537097              NaN   \n",
       "1        0          0      0     1  21.537097              NaN   \n",
       "2        0          0      0     1  21.537097              NaN   \n",
       "3        0          0      0     1  21.537097              NaN   \n",
       "4        0          0      0     1  21.537097              NaN   \n",
       "\n",
       "   tempAfternoonMean  tempNigthMean   totalSales  tempDawnMean  \n",
       "0                NaN            NaN  9968.195728      19.84086  \n",
       "1                NaN            NaN  9968.195728      19.84086  \n",
       "2                NaN            NaN  9968.195728      19.84086  \n",
       "3                NaN            NaN  9968.195728      19.84086  \n",
       "4                NaN            NaN  9968.195728      19.84086  "
      ]
     },
     "execution_count": 32,
     "metadata": {},
     "output_type": "execute_result"
    }
   ],
   "source": [
    "clima.head()"
   ]
  },
  {
   "cell_type": "markdown",
   "metadata": {},
   "source": [
    "## 1.3 Salvando em um arquivo CSV"
   ]
  },
  {
   "cell_type": "code",
   "execution_count": 33,
   "metadata": {},
   "outputs": [],
   "source": [
    "clima.to_csv('/home/jovyan/workspace/data/vendas_sao_paulo.csv', index = False)"
   ]
  },
  {
   "cell_type": "code",
   "execution_count": null,
   "metadata": {},
   "outputs": [],
   "source": []
  }
 ],
 "metadata": {
  "kernelspec": {
   "display_name": "Python 3",
   "language": "python",
   "name": "python3"
  },
  "language_info": {
   "codemirror_mode": {
    "name": "ipython",
    "version": 3
   },
   "file_extension": ".py",
   "mimetype": "text/x-python",
   "name": "python",
   "nbconvert_exporter": "python",
   "pygments_lexer": "ipython3",
   "version": "3.7.3"
  }
 },
 "nbformat": 4,
 "nbformat_minor": 2
}
